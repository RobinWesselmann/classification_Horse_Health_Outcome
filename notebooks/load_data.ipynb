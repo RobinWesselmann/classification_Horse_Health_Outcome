{
 "cells": [
  {
   "cell_type": "code",
   "execution_count": 14,
   "metadata": {},
   "outputs": [],
   "source": [
    "from dotenv import load_dotenv\n",
    "import os\n",
    "import json\n",
    "import kaggle\n",
    "import zipfile\n",
    "\n",
    "load_dotenv(dotenv_path=\"./.env\")\n",
    "KAGGLE_USERNAME = os.environ.get(\"KAGGLE_USERNAME\", \"\")\n",
    "KAGGLE_KEY = os.environ.get(\"KAGGLE_KEY\", \"\")\n",
    "ZIP_DATA_PATH = os.environ.get(\"ZIP_DATA_PATH\", \"\")\n",
    "RAW_DATA_PATH = os.environ.get(\"RAW_DATA_PATH\", \"\")"
   ]
  },
  {
   "cell_type": "code",
   "execution_count": 15,
   "metadata": {},
   "outputs": [],
   "source": [
    "from kaggle.api.kaggle_api_extended import KaggleApi\n",
    "\n",
    "api = KaggleApi()\n",
    "api.authenticate()\n",
    "\n",
    "api.competition_download_files(\n",
    "    competition=\"playground-series-s3e22\",\n",
    "    path=ZIP_DATA_PATH\n",
    ")"
   ]
  },
  {
   "cell_type": "code",
   "execution_count": 17,
   "metadata": {},
   "outputs": [],
   "source": [
    "with zipfile.ZipFile(ZIP_DATA_PATH + \"//\" + os.listdir(ZIP_DATA_PATH)[0]) as zip_file:\n",
    "    zip_file.extractall(path=RAW_DATA_PATH)"
   ]
  }
 ],
 "metadata": {
  "kernelspec": {
   "display_name": ".venv",
   "language": "python",
   "name": "python3"
  },
  "language_info": {
   "codemirror_mode": {
    "name": "ipython",
    "version": 3
   },
   "file_extension": ".py",
   "mimetype": "text/x-python",
   "name": "python",
   "nbconvert_exporter": "python",
   "pygments_lexer": "ipython3",
   "version": "3.11.5"
  },
  "orig_nbformat": 4
 },
 "nbformat": 4,
 "nbformat_minor": 2
}
